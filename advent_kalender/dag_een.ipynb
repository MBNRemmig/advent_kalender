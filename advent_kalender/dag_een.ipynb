{
 "cells": [
  {
   "cell_type": "code",
   "execution_count": 1,
   "metadata": {},
   "outputs": [],
   "source": [
    "import numpy as np\n",
    "import matplotlib.pyplot as plt\n",
    "import pandas as pd\n",
    "import os as os\n"
   ]
  },
  {
   "cell_type": "code",
   "execution_count": 2,
   "metadata": {},
   "outputs": [
    {
     "data": {
      "text/plain": [
       "3339288.0"
      ]
     },
     "execution_count": 2,
     "metadata": {},
     "output_type": "execute_result"
    }
   ],
   "source": [
    "module= pd.read_csv('/mnt/c/Users/Gebruiker/Documents/Map1.csv',delimiter=';')\n",
    "mass_ls = module['Mass'].tolist()\n",
    "fuel_ls = []\n",
    "for i in mass_ls: \n",
    "    fuel = np.floor(i/3)-2\n",
    "    fuel_ls.append(fuel)\n",
    "sum(fuel_ls)\n",
    "\n",
    "\n",
    "\n"
   ]
  },
  {
   "cell_type": "code",
   "execution_count": 3,
   "metadata": {},
   "outputs": [
    {
     "name": "stdout",
     "output_type": "stream",
     "text": [
      "3339288\n"
     ]
    }
   ],
   "source": [
    "print(np.sum([int(x/3)-2 for x in mass_ls]))"
   ]
  },
  {
   "cell_type": "code",
   "execution_count": 4,
   "metadata": {},
   "outputs": [
    {
     "data": {
      "text/plain": [
       "1112865.0"
      ]
     },
     "execution_count": 4,
     "metadata": {},
     "output_type": "execute_result"
    }
   ],
   "source": [
    "fuel2_ls = []\n",
    "for i in fuel_ls:\n",
    "    if i >= 0:\n",
    "        fuel2 = np.floor(i/3)-2\n",
    "        fuel2_ls.append(fuel2)\n",
    "sum(fuel2_ls)\n",
    "\n",
    "\n"
   ]
  },
  {
   "cell_type": "code",
   "execution_count": 5,
   "metadata": {},
   "outputs": [
    {
     "data": {
      "text/plain": [
       "3339288.0"
      ]
     },
     "execution_count": 5,
     "metadata": {},
     "output_type": "execute_result"
    }
   ],
   "source": [
    "sum(np.floor(np.array(mass_ls)/3)-2)"
   ]
  },
  {
   "cell_type": "code",
   "execution_count": null,
   "metadata": {},
   "outputs": [],
   "source": [
    "fuel2_ls = []\n",
    "while fuel_ls:\n",
    "    if i>0 in fuel_ls:\n",
    "        old_fuel=i\n",
    "        new_fuel=np.floor(i/3)-2\n",
    "        fuel_ls.remove(old_fuel)\n",
    "        fuel_ls.append(new_fuel)\n",
    "        fuel2_ls.append(new_fuel)\n",
    "    if i<=0 in fuel_ls:\n",
    "        old_fuel=i\n",
    "        fuel_ls.remove(old_fuel)\n",
    "print(fuel2_ls)\n",
    "\n",
    "        \n",
    "    "
   ]
  },
  {
   "cell_type": "code",
   "execution_count": 25,
   "metadata": {},
   "outputs": [
    {
     "name": "stdout",
     "output_type": "stream",
     "text": [
      "1112865\n"
     ]
    }
   ],
   "source": []
  },
  {
   "cell_type": "code",
   "execution_count": null,
   "metadata": {},
   "outputs": [],
   "source": []
  }
 ],
 "metadata": {
  "kernelspec": {
   "display_name": "Python 3",
   "language": "python",
   "name": "python3"
  },
  "language_info": {
   "codemirror_mode": {
    "name": "ipython",
    "version": 3
   },
   "file_extension": ".py",
   "mimetype": "text/x-python",
   "name": "python",
   "nbconvert_exporter": "python",
   "pygments_lexer": "ipython3",
   "version": "3.6.8"
  }
 },
 "nbformat": 4,
 "nbformat_minor": 2
}
