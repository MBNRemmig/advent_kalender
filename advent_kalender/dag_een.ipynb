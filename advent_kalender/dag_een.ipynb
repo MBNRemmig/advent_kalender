{
 "cells": [
  {
   "cell_type": "code",
   "execution_count": 1,
   "metadata": {},
   "outputs": [],
   "source": [
    "import numpy as np\n",
    "import matplotlib.pyplot as plt\n",
    "import pandas as pd\n",
    "import os as os\n"
   ]
  },
  {
   "cell_type": "code",
   "execution_count": 30,
   "metadata": {},
   "outputs": [
    {
     "name": "stdout",
     "output_type": "stream",
     "text": [
      "[46837.0, 20577.0, 47303.0, 26123.0, 23067.0, 43918.0, 22402.0, 45933.0, 26361.0, 33483.0, 36233.0, 25076.0, 17037.0, 49817.0, 22960.0, 28572.0, 30470.0, 24825.0, 31145.0, 41635.0, 25145.0, 33845.0, 49695.0, 27714.0, 46416.0, 27797.0, 25464.0, 44082.0, 45919.0, 47584.0, 45424.0, 42077.0, 34294.0, 36239.0, 39992.0, 21736.0, 20468.0, 40296.0, 39585.0, 33405.0, 22375.0, 38496.0, 31872.0, 17604.0, 26202.0, 41833.0, 26839.0, 32589.0, 22521.0, 38169.0, 43888.0, 49935.0, 25891.0, 21844.0, 32803.0, 20196.0, 35194.0, 27307.0, 20081.0, 20836.0, 46500.0, 49842.0, 48959.0, 49608.0, 47630.0, 35431.0, 35435.0, 33816.0, 32171.0, 22366.0, 47343.0, 42750.0, 42921.0, 45025.0, 31058.0, 16909.0, 49238.0, 24589.0, 19369.0, 17824.0, 32233.0, 40684.0, 45107.0, 40502.0, 18177.0, 20799.0, 22109.0, 38972.0, 30323.0, 45125.0, 17157.0, 29191.0, 41344.0, 21347.0, 26203.0, 42687.0, 49392.0, 23902.0, 19613.0, 28211.0]\n"
     ]
    },
    {
     "data": {
      "text/plain": [
       "3339288.0"
      ]
     },
     "execution_count": 30,
     "metadata": {},
     "output_type": "execute_result"
    }
   ],
   "source": [
    "module= pd.read_csv('/mnt/c/Users/Gebruiker/Documents/Map1.csv',delimiter=';')\n",
    "mass_ls = module['Mass'].tolist()\n",
    "fuel_ls = []\n",
    "for i in mass_ls: \n",
    "    fuel = np.floor(i/3)-2\n",
    "    fuel_ls.append(fuel)\n",
    "print(fuel_ls)\n",
    "sum(fuel_ls)\n",
    "\n",
    "\n"
   ]
  },
  {
   "cell_type": "code",
   "execution_count": null,
   "metadata": {},
   "outputs": [],
   "source": []
  }
 ],
 "metadata": {
  "kernelspec": {
   "display_name": "Python 3",
   "language": "python",
   "name": "python3"
  },
  "language_info": {
   "codemirror_mode": {
    "name": "ipython",
    "version": 3
   },
   "file_extension": ".py",
   "mimetype": "text/x-python",
   "name": "python",
   "nbconvert_exporter": "python",
   "pygments_lexer": "ipython3",
   "version": "3.6.8"
  }
 },
 "nbformat": 4,
 "nbformat_minor": 2
}
